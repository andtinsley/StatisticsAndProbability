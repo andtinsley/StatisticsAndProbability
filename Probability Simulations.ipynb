{
 "cells": [
  {
   "cell_type": "code",
   "execution_count": 6,
   "id": "worse-rendering",
   "metadata": {},
   "outputs": [],
   "source": [
    "import pandas as pd\n",
    "import numpy as np"
   ]
  },
  {
   "cell_type": "markdown",
   "id": "external-liverpool",
   "metadata": {},
   "source": [
    "define dice"
   ]
  },
  {
   "cell_type": "code",
   "execution_count": 117,
   "id": "amazing-guess",
   "metadata": {},
   "outputs": [],
   "source": [
    "Di = [1, 2, 3, 4, 5, 6]\n",
    "Probability = [1/6, 1/6, 1/6, 1/6, 1/6, 1/6]\n",
    "NumberOfDice = 1"
   ]
  },
  {
   "cell_type": "markdown",
   "id": "opposite-hardware",
   "metadata": {},
   "source": [
    "Use np.random.choice to throw the die once and record the outcome"
   ]
  },
  {
   "cell_type": "code",
   "execution_count": 120,
   "id": "southwest-typing",
   "metadata": {},
   "outputs": [
    {
     "name": "stdout",
     "output_type": "stream",
     "text": [
      "[4]\n"
     ]
    }
   ],
   "source": [
    "print(np.random.choice(Di, size = NumberOfDice, p = Probability))"
   ]
  },
  {
   "cell_type": "markdown",
   "id": "frequent-instrumentation",
   "metadata": {},
   "source": [
    "roll two dice, if both return same number then you win else you lose"
   ]
  },
  {
   "cell_type": "code",
   "execution_count": 121,
   "id": "endless-triumph",
   "metadata": {},
   "outputs": [],
   "source": [
    "Di, Probability, NumberOfDice = [1,2,3,4,5,6], [1/6, 1/6, 1/6, 1/6, 1/6, 1/6], 2"
   ]
  },
  {
   "cell_type": "code",
   "execution_count": 182,
   "id": "increased-frequency",
   "metadata": {},
   "outputs": [
    {
     "name": "stdout",
     "output_type": "stream",
     "text": [
      "You Win! dice rolls were 4 , 4\n"
     ]
    }
   ],
   "source": [
    "outcomes = np.random.choice(Di, size = NumberOfDice, p = Probability)\n",
    "if outcomes[0] == outcomes[1]:\n",
    "    answer = \"You Win!\"\n",
    "else: \n",
    "    answer = \"You Lose\"\n",
    "print(answer,\"dice rolls were\", outcomes[0],',', outcomes[1])"
   ]
  },
  {
   "cell_type": "markdown",
   "id": "wireless-young",
   "metadata": {},
   "source": [
    "write for loop to simulate 100000 times and return freq of wins"
   ]
  },
  {
   "cell_type": "code",
   "execution_count": 77,
   "id": "infectious-round",
   "metadata": {},
   "outputs": [],
   "source": [
    "sims = 100000\n",
    "wins = 0"
   ]
  },
  {
   "cell_type": "code",
   "execution_count": 183,
   "id": "educated-guidance",
   "metadata": {},
   "outputs": [
    {
     "name": "stdout",
     "output_type": "stream",
     "text": [
      "Number of wins: 19421 Probability of winning: 0.19421\n"
     ]
    }
   ],
   "source": [
    "for i in range(sims):\n",
    "    outcomes = np.random.choice(Di, size = NumberOfDice, p = Probability)\n",
    "    # Increment `wins` by 1 if the dice show same number\n",
    "    if outcomes[0] == outcomes[1]:\n",
    "        wins=wins+1\n",
    "print(\"Number of wins:\", wins, \"Probability of winning:\", wins/100000)"
   ]
  },
  {
   "cell_type": "markdown",
   "id": "convenient-updating",
   "metadata": {},
   "source": [
    "probability of rolling at least a 2 on die 1 and 4 on die 2"
   ]
  },
  {
   "cell_type": "code",
   "execution_count": 106,
   "id": "fiscal-injury",
   "metadata": {},
   "outputs": [
    {
     "name": "stdout",
     "output_type": "stream",
     "text": [
      "prob of winning is 2.783 %\n"
     ]
    }
   ],
   "source": [
    "sim = 100000\n",
    "wins = 0\n",
    "for i in range(sim):\n",
    "    outcome = np.random.choice(Di, size = NumberOfDice, p = Probability)\n",
    "    if outcome[0] == 2 and outcome[1] == 4:\n",
    "        wins = wins+1\n",
    "print(\"prob of winning is\",(wins/100000)*100, \"%\")"
   ]
  },
  {
   "cell_type": "markdown",
   "id": "weighted-cleaner",
   "metadata": {},
   "source": [
    "probability of winning the lottery"
   ]
  },
  {
   "cell_type": "code",
   "execution_count": 63,
   "id": "several-tucson",
   "metadata": {},
   "outputs": [
    {
     "name": "stdout",
     "output_type": "stream",
     "text": [
      "-3.5\n"
     ]
    }
   ],
   "source": [
    "lotteryTicketCost = 5\n",
    "PayOut = 1000000\n",
    "ChanceOfWinning = 1/1000000\n",
    "sims = 2000000\n",
    "\n",
    "payoffs = [-lotteryTicketCost, PayOut - lotteryTicketCost]\n",
    "probs = [1 - ChanceOfWinning, ChanceOfWinning]\n",
    "\n",
    "outcomes = np.random.choice(payoffs, \n",
    "                            size = sims, \n",
    "                            p = probs, \n",
    "                            replace = True)\n",
    "print(np.mean(outcomes))"
   ]
  },
  {
   "cell_type": "markdown",
   "id": "documented-visibility",
   "metadata": {},
   "source": [
    "Optimization: At what price does it make sense to buy a lottery where returns are positive"
   ]
  },
  {
   "cell_type": "code",
   "execution_count": null,
   "id": "driven-invention",
   "metadata": {},
   "outputs": [],
   "source": [
    "lotteryTicketCost = 0.00\n",
    "PayOut = 2000000\n",
    "ChanceOfWinning = 1/10000\n",
    "sims = 2000000\n",
    "\n",
    "#while loop to increment until positive outcome\n",
    "while True:\n",
    "    outcomes = np.random.choice([-lotteryTicketCost, PayOut-lotteryTicketCost], \n",
    "                                size = sims, \n",
    "                                p = [1-ChanceOfWinning, ChanceOfWinning], \n",
    "                                replace = True)\n",
    "    if outcomes.mean() < 0:\n",
    "        break\n",
    "    else: \n",
    "        lotteryTicketCost +=1\n",
    "answer = lotteryTicketCost -1\n",
    "    \n",
    "print('the highest price it makes sense to pay for a ticket is','$', answer)"
   ]
  },
  {
   "cell_type": "markdown",
   "id": "virgin-anatomy",
   "metadata": {},
   "source": [
    "Bernoulli and binomial exercises"
   ]
  },
  {
   "cell_type": "code",
   "execution_count": 74,
   "id": "neural-municipality",
   "metadata": {},
   "outputs": [],
   "source": [
    "import scipy as sp"
   ]
  },
  {
   "cell_type": "code",
   "execution_count": 76,
   "id": "lasting-passion",
   "metadata": {},
   "outputs": [
    {
     "name": "stdout",
     "output_type": "stream",
     "text": [
      "[0 0 0 1 0 0 1 0 0 0 0 0 1 1 0 0 1 0 0 1 1 1 1 0 1 0 0 1 1 1 0 1 0 1 0 0 0\n",
      " 1 0 1 1 1 1 1 0 0 1 0 1 0 0 1 1 1 1 0 0 0 1 0 0 1 0 1 1 1 1 0 0 0 0 1 0 1\n",
      " 1 0 0 1 0 0 1 0 1 1 0 1 1 0 1 1 0 0 1 0 1 0 1 1 0 1 1 0 0 0 0 0 1 0 1 1 1\n",
      " 1 0 0 1 1 0 1 0 1 1 1 0 1 0 0 1 1 1 0 1 0 1 1 1 0 1 1 0 1 1 0 0 1 0 1 0 0\n",
      " 1 1 1 0 1 0 0 1 0 1 1 1 1 1 0 0 1 0 1 1 0 1 0 1 1 0 1 0 1 1 0 1 1 0 0 0 0\n",
      " 0 1 1 1 1 1 0 0 0 0 0 0 0 1 0 0 1 1 0 1 0 1 0 0 0 0 1 0 0 0 1 0 0 1 1 1 1\n",
      " 0 1 0 1 1 0 0 0 0 1 0 1 1 0 0 1 1 1 0 0 0 1 0 0 1 1 1 1 0 0 0 0 1 1 1 1 1\n",
      " 1 1 1 0 1 0 0 1 1 1 0 0 1 1 0 1 0 1 1 1 0 1 1 1 1 0 1 1 1 1 0 0 1 0 1 1 0\n",
      " 0 1 0 0 0 1 1 1 0 0 0 1 1 0 0 0 0 0 0 1 1 1 0 1 0 0 1 0 1 1 0 1 1 0 1 0 1\n",
      " 1 1 0 0 0 0 0 1 0 1 1 0 0 0 0 1 0 0 1 1 1 0 1 0 1 0 1 1 1 0 0 1 0 0 1 1 0\n",
      " 1 1 0 0 1 0 1 0 1 1 0 0 1 1 1 1 0 1 1 1 1 1 0 0 0 1 0 0 0 1 1 0 0 0 0 0 1\n",
      " 1 1 1 1 1 1 0 1 1 1 0 0 0 0 0 1 0 1 1 0 0 1 1 0 1 0 1 1 0 1 1 0 1 0 0 1 1\n",
      " 1 1 0 0 0 0 0 0 0 1 0 0 1 1 1 0 1 0 0 0 0 0 0 1 0 1 1 1 0 1 1 0 0 0 0 0 1\n",
      " 1 1 1 0 0 1 0 1 0 0 1 0 1 0 1 0 1 1 0 1 1 0 1 1 0 0 1 0 0 0 1 1 0 1 0 1 1\n",
      " 1 1 0 0 0 0 0 0 0 1 0 1 0 0 0 1 0 0 0 0 1 1 0 0 1 0 0 0 0 0 0 0 1 0 1 0 1\n",
      " 0 1 0 0 0 1 0 1 1 0 1 1 0 0 0 0 0 0 1 1 1 1 0 0 1 0 1 1 0 0 1 1 1 1 1 0 0\n",
      " 0 1 1 0 0 0 0 1 0 1 1 1 1 1 0 1 1 1 1 0 1 0 1 0 1 1 1 0 0 0 0 0 1 1 0 1 1\n",
      " 0 1 1 1 0 1 1 1 1 1 0 1 0 0 1 1 1 0 1 0 0 1 0 0 1 1 1 1 1 0 1 0 1 1 1 0 1\n",
      " 1 1 0 1 0 1 0 0 0 1 1 0 1 0 0 0 1 1 1 1 0 1 1 0 0 0 1 0 0 1 1 1 1 0 0 0 1\n",
      " 1 1 0 1 1 1 0 1 0 0 1 0 1 0 0 0 0 1 0 1 0 0 1 0 1 0 1 1 1 0 0 0 1 0 0 1 0\n",
      " 0 0 0 0 0 0 0 0 0 1 0 0 1 1 1 1 0 1 0 1 0 1 0 1 1 0 1 0 1 1 1 1 1 0 1 1 0\n",
      " 1 1 0 0 1 0 0 0 1 0 0 1 0 0 1 1 1 1 0 0 1 0 0 1 1 1 1 1 0 0 1 1 0 0 0 0 0\n",
      " 0 1 1 1 0 1 0 0 1 1 0 1 1 1 1 0 1 1 0 0 1 0 0 1 1 1 1 1 0 1 1 0 0 1 1 1 0\n",
      " 0 1 0 1 1 1 1 1 1 1 0 0 1 0 0 1 1 1 0 0 0 0 1 0 1 0 0 1 0 1 0 0 0 0 1 0 0\n",
      " 1 1 1 1 0 1 1 0 1 1 1 0 0 1 0 0 0 1 1 0 1 1 0 1 0 0 0 0 0 1 1 1 0 1 0 0 0\n",
      " 1 0 1 1 0 0 1 1 1 0 1 0 1 1 1 0 1 0 1 1 1 0 1 1 1 1 0 1 1 0 1 1 0 1 1 0 0\n",
      " 0 1 0 0 1 1 0 0 1 0 0 0 1 0 0 1 0 0 1 1 0 0 1 0 1 0 0 1 0 1 1 0 1 0 1 1 1\n",
      " 0]\n"
     ]
    }
   ],
   "source": [
    "dice = sp.stats.bernoulli.rvs(p=.5, size=1000)"
   ]
  },
  {
   "cell_type": "code",
   "execution_count": 108,
   "id": "liberal-forty",
   "metadata": {},
   "outputs": [
    {
     "name": "stdout",
     "output_type": "stream",
     "text": [
      "0.11718750000000014\n"
     ]
    }
   ],
   "source": [
    "#probability mass function: calculating probability of a single event\n",
    "#probability of getting 5 heads out of 10 coin flips\n",
    "print(sp.stats.binom.pmf(n=10, k=3, p=.5))"
   ]
  },
  {
   "cell_type": "code",
   "execution_count": 109,
   "id": "compliant-colony",
   "metadata": {},
   "outputs": [
    {
     "name": "stdout",
     "output_type": "stream",
     "text": [
      "0.6230468749999999\n",
      "0.3769531250000001\n"
     ]
    }
   ],
   "source": [
    "#probability density function: \n",
    "#probability of getting 5 or less flips from 10 flips and the compliment 5 or more\n",
    "print(sp.stats.binom.cdf(n=10, k=5, p=.5))\n",
    "print(1-sp.stats.binom.cdf(n=10, k=5, p=.5))"
   ]
  },
  {
   "cell_type": "code",
   "execution_count": 116,
   "id": "undefined-episode",
   "metadata": {},
   "outputs": [
    {
     "name": "stdout",
     "output_type": "stream",
     "text": [
      "0.37160171437461204\n",
      "0.9215722516490308\n"
     ]
    }
   ],
   "source": [
    "#Let's model whether or not a component from a supplier comes with a defect. From the thousands of components that we got from a supplier, \n",
    "#we are going to take a sample of 50, selected randomly. The agreed and accepted defect rate is 2%.\n",
    "print(sp.stats.binom.pmf(n=50, k=1, p=.02))\n",
    "\n",
    "#probability of finding two or less defected parts\n",
    "print(sp.stats.binom.cdf(n=50, k=2, p=.02))"
   ]
  },
  {
   "cell_type": "markdown",
   "id": "abandoned-finder",
   "metadata": {},
   "source": [
    "Imagine that in your town there are many crimes, including burglaries, but only 20% of them get solved. Last week, there were 9 burglaries. "
   ]
  },
  {
   "cell_type": "code",
   "execution_count": 123,
   "id": "included-dominican",
   "metadata": {},
   "outputs": [
    {
     "name": "stdout",
     "output_type": "stream",
     "text": [
      "0.06606028799999998\n",
      "0.08564172799999992\n",
      "0.47815065599999973\n",
      "0.43622655999999993\n"
     ]
    }
   ],
   "source": [
    "#What is the probability of solving exactly 4 of the 9 total burglaries\n",
    "print(sp.stats.binom.pmf(k=4, n=9, p=.2))\n",
    "\n",
    "#What is the probability of solving more than 3 of the 9 burglaries?\n",
    "print(1-sp.stats.binom.cdf(k=3, n=9, p=.2))\n",
    "\n",
    "#What is the probability of solving exactly 2 or 3 of the 9 burglaries?\n",
    "print(sp.stats.binom.pmf(k=2, n=9, p=.2) + sp.stats.binom.pmf(k=3, n=9, p=.2))\n",
    "\n",
    "#What is the probability of solving 1 or fewer or more than 7 of the 9 burglaries?\n",
    "print(sp.stats.binom.cdf(k=1, n=9, p=.2) + sp.stats.binom.sf(k=7, n=9, p=.2))"
   ]
  }
 ],
 "metadata": {
  "kernelspec": {
   "display_name": "Python 3",
   "language": "python",
   "name": "python3"
  },
  "language_info": {
   "codemirror_mode": {
    "name": "ipython",
    "version": 3
   },
   "file_extension": ".py",
   "mimetype": "text/x-python",
   "name": "python",
   "nbconvert_exporter": "python",
   "pygments_lexer": "ipython3",
   "version": "3.8.5"
  }
 },
 "nbformat": 4,
 "nbformat_minor": 5
}
