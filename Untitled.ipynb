{
 "cells": [
  {
   "cell_type": "code",
   "execution_count": 1,
   "id": "significant-draft",
   "metadata": {},
   "outputs": [],
   "source": [
    "import pandas as pd\n",
    "import numpy as np"
   ]
  },
  {
   "cell_type": "code",
   "execution_count": 55,
   "id": "spare-trade",
   "metadata": {},
   "outputs": [
    {
     "name": "stdout",
     "output_type": "stream",
     "text": [
      "2 , 1\n",
      "False\n"
     ]
    }
   ],
   "source": [
    "number_of_dice = 2\n",
    "side = [1,2,3,4,5,6]\n",
    "probs = [1/6, 1/6, 1/6, 1/6, 1/6, 1/6]\n",
    "\n",
    "result = np.random.choice(side, number_of_dice, p=probs)\n",
    "print(result[0],',', result[1])\n",
    "print(result[0]==result[1])"
   ]
  },
  {
   "cell_type": "code",
   "execution_count": 53,
   "id": "disabled-password",
   "metadata": {},
   "outputs": [
    {
     "name": "stdout",
     "output_type": "stream",
     "text": [
      "0.1685\n"
     ]
    }
   ],
   "source": [
    "number_of_dice = 2\n",
    "side = [1,2,3,4,5,6]\n",
    "probs = [1/6, 1/6, 1/6, 1/6, 1/6, 1/6]\n",
    "\n",
    "sims = 10000\n",
    "count = 0\n",
    "\n",
    "for i in range(sims):\n",
    "    results = np.random.choice(side, number_of_dice, p=probs)\n",
    "    if results[0] == results[1]:\n",
    "        count=count+1\n",
    "\n",
    "print(count/sims)"
   ]
  },
  {
   "cell_type": "code",
   "execution_count": 243,
   "id": "respected-campbell",
   "metadata": {},
   "outputs": [
    {
     "name": "stdout",
     "output_type": "stream",
     "text": [
      "-4.0\n",
      "1\n"
     ]
    }
   ],
   "source": [
    "chance_of_winning = 1/1000000\n",
    "tickets = 1000000\n",
    "price = 5\n",
    "prize = 1000000\n",
    "\n",
    "gains = [prize-price, -price]\n",
    "probs = [chance_of_winning, 1-chance_of_winning]\n",
    "\n",
    "wins = np.random.choice(gains, tickets, p=probs)\n",
    "print(np.mean(wins))\n",
    "print(np.count_nonzero(wins != -5))"
   ]
  },
  {
   "cell_type": "code",
   "execution_count": 298,
   "id": "universal-protocol",
   "metadata": {},
   "outputs": [
    {
     "name": "stdout",
     "output_type": "stream",
     "text": [
      "-0.01\n"
     ]
    }
   ],
   "source": [
    "chance_of_winning = 1/2000000\n",
    "sims = 2000000\n",
    "price = 0.00\n",
    "prize = 2000000\n",
    "\n",
    "while True:\n",
    "    wins = np.random.choice([prize-price, -price], \n",
    "                            sims, \n",
    "                            p=[chance_of_winning, 1-chance_of_winning])\n",
    "    if wins.mean() < 0.01:\n",
    "        break\n",
    "    else:\n",
    "        price += .01\n",
    "answer = price-.01\n",
    "print(answer)"
   ]
  },
  {
   "cell_type": "code",
   "execution_count": 279,
   "id": "dying-measurement",
   "metadata": {},
   "outputs": [
    {
     "name": "stdout",
     "output_type": "stream",
     "text": [
      "3\n"
     ]
    }
   ],
   "source": [
    "cost = 0\n",
    "chance_of_win = 1/2000000\n",
    "sims = 2000000\n",
    "payout = 2000000\n",
    "\n",
    "while True:\n",
    "    wins = np.random.choice([-cost, payout-cost],\n",
    "                           sims,\n",
    "                           p = [1-chance_of_winning, chance_of_winning])\n",
    "    if np.mean(wins) < 0:\n",
    "        break\n",
    "    else:\n",
    "        cost += cost+1\n",
    "    results = cost\n",
    "\n",
    "print(results)"
   ]
  }
 ],
 "metadata": {
  "kernelspec": {
   "display_name": "Python 3",
   "language": "python",
   "name": "python3"
  },
  "language_info": {
   "codemirror_mode": {
    "name": "ipython",
    "version": 3
   },
   "file_extension": ".py",
   "mimetype": "text/x-python",
   "name": "python",
   "nbconvert_exporter": "python",
   "pygments_lexer": "ipython3",
   "version": "3.8.5"
  }
 },
 "nbformat": 4,
 "nbformat_minor": 5
}
